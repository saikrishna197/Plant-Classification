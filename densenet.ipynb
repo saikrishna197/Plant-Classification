{
  "nbformat": 4,
  "nbformat_minor": 0,
  "metadata": {
    "colab": {
      "name": "Untitled16.ipynb",
      "provenance": [],
      "collapsed_sections": []
    },
    "kernelspec": {
      "name": "python3",
      "display_name": "Python 3"
    },
    "accelerator": "GPU"
  },
  "cells": [
    {
      "cell_type": "code",
      "metadata": {
        "id": "4m_jZ3Pgg7W7",
        "colab_type": "code",
        "outputId": "4fa4e6d8-6fe1-46a8-b81a-879d35eefea9",
        "colab": {
          "base_uri": "https://localhost:8080/",
          "height": 129
        }
      },
      "source": [
        "from google.colab import drive\n",
        "drive.mount('/content/drive')"
      ],
      "execution_count": 0,
      "outputs": [
        {
          "output_type": "stream",
          "text": [
            "Go to this URL in a browser: https://accounts.google.com/o/oauth2/auth?client_id=947318989803-6bn6qk8qdgf4n4g3pfee6491hc0brc4i.apps.googleusercontent.com&redirect_uri=urn%3aietf%3awg%3aoauth%3a2.0%3aoob&response_type=code&scope=email%20https%3a%2f%2fwww.googleapis.com%2fauth%2fdocs.test%20https%3a%2f%2fwww.googleapis.com%2fauth%2fdrive%20https%3a%2f%2fwww.googleapis.com%2fauth%2fdrive.photos.readonly%20https%3a%2f%2fwww.googleapis.com%2fauth%2fpeopleapi.readonly\n",
            "\n",
            "Enter your authorization code:\n",
            "··········\n",
            "Mounted at /content/drive\n"
          ],
          "name": "stdout"
        }
      ]
    },
    {
      "cell_type": "code",
      "metadata": {
        "id": "YYP2Mu2EhChQ",
        "colab_type": "code",
        "outputId": "c34a5a86-b6e2-416a-a190-aec1810737a7",
        "colab": {
          "base_uri": "https://localhost:8080/",
          "height": 35
        }
      },
      "source": [
        "import numpy as np # linear algebra\n",
        "import pandas as pd # data processing, CSV file I/O (e.g. pd.read_csv)\n",
        "import os\n",
        "# Image processing\n",
        "import matplotlib.pyplot as plt\n",
        "import seaborn as sns\n",
        "import imageio\n",
        "import skimage\n",
        "import skimage.io\n",
        "import skimage.transform\n",
        "from imageio import imread\n",
        "\n",
        "from keras.preprocessing.image import ImageDataGenerator, array_to_img, img_to_array, load_img\n",
        "from keras.models import Sequential\n",
        "from keras.layers.normalization import BatchNormalization\n",
        "from keras.layers.convolutional import Conv2D\n",
        "from keras.layers.convolutional import MaxPooling2D\n",
        "from keras.layers.core import Activation\n",
        "from keras.layers.core import Flatten\n",
        "from keras.layers.core import Dropout\n",
        "from keras.layers.core import Dense\n",
        "from keras.layers.normalization import BatchNormalization\n",
        "from keras.callbacks import ModelCheckpoint, Callback, EarlyStopping, ReduceLROnPlateau\n",
        "\n",
        "print(os.listdir('/content/drive/My Drive/Colab Notebooks/flags1'))\n",
        "directory = os.listdir('/content/drive/My Drive/Colab Notebooks/flags1')"
      ],
      "execution_count": 45,
      "outputs": [
        {
          "output_type": "stream",
          "text": [
            "['France', 'Italy', 'USA', 'Switzerland', 'Russia', 'UK', 'germany', 'spain', 'Canada', 'India']\n"
          ],
          "name": "stdout"
        }
      ]
    },
    {
      "cell_type": "code",
      "metadata": {
        "id": "53fTYge2Gs1y",
        "colab_type": "code",
        "colab": {
          "base_uri": "https://localhost:8080/",
          "height": 110
        },
        "outputId": "b8c1bf2d-2fcf-4113-db3e-baa3030e9537"
      },
      "source": [
        "!pip install split-folders"
      ],
      "execution_count": 96,
      "outputs": [
        {
          "output_type": "stream",
          "text": [
            "Collecting split-folders\n",
            "  Downloading https://files.pythonhosted.org/packages/20/67/29dda743e6d23ac1ea3d16704d8bbb48d65faf3f1b1eaf53153b3da56c56/split_folders-0.3.1-py3-none-any.whl\n",
            "Installing collected packages: split-folders\n",
            "Successfully installed split-folders-0.3.1\n"
          ],
          "name": "stdout"
        }
      ]
    },
    {
      "cell_type": "code",
      "metadata": {
        "id": "XeK5RRDWGzUf",
        "colab_type": "code",
        "colab": {
          "base_uri": "https://localhost:8080/",
          "height": 35
        },
        "outputId": "27778de1-428a-4a4c-ac3d-d27d0000e20d"
      },
      "source": [
        "import split_folders\n",
        "# Create a new folder flags1 and give as output file\n",
        "# To only split into training and validation set, set a tuple to `ratio`, i.e, `(.8, .2)`.\n",
        "#split_folders.ratio('input_folder', output=\"output\", seed=1337, ratio=(.8, .1, .1))\n",
        "split_folders.ratio('/content/drive/My Drive/Colab Notebooks/flags1', output=\"/content/flags1\", seed=1337, ratio=(.8,.2))"
      ],
      "execution_count": 97,
      "outputs": [
        {
          "output_type": "stream",
          "text": [
            "Copying files: 2073 files [20:03,  1.72 files/s]\n"
          ],
          "name": "stderr"
        }
      ]
    },
    {
      "cell_type": "code",
      "metadata": {
        "id": "fWo48Li7QUf5",
        "colab_type": "code",
        "colab": {
          "base_uri": "https://localhost:8080/",
          "height": 54
        },
        "outputId": "56484de8-5e4d-4bd8-eed6-9bd13eb4ecd6"
      },
      "source": [
        "from keras.applications.vgg16 import VGG16, preprocess_input\n",
        "from keras.applications.mobilenet_v2 import MobileNetV2, preprocess_input\n",
        "from keras.applications.densenet import DenseNet121,preprocess_input\n",
        "\n",
        "#vgg_conv = VGG16(weights='imagenet', include_top=False, input_shape=(64, 64, 3))\n",
        "densenet = DenseNet121(weights='imagenet', include_top=False, input_shape=(64, 64, 3))"
      ],
      "execution_count": 110,
      "outputs": [
        {
          "output_type": "stream",
          "text": [
            "Downloading data from https://github.com/keras-team/keras-applications/releases/download/densenet/densenet121_weights_tf_dim_ordering_tf_kernels_notop.h5\n",
            "29089792/29084464 [==============================] - 2s 0us/step\n"
          ],
          "name": "stdout"
        }
      ]
    },
    {
      "cell_type": "code",
      "metadata": {
        "id": "Y_dzEtGLKW-S",
        "colab_type": "code",
        "colab": {
          "base_uri": "https://localhost:8080/",
          "height": 1000
        },
        "outputId": "dceb07f8-e294-437c-f96b-dd5f41769574"
      },
      "source": [
        "# Freeze the layers except the last 4 layers\n",
        "for layer in densenet.layers[:-4]:\n",
        "  layer.trainable = False\n",
        "# Check the trainable status of the individual layers\n",
        "for layer in densenet.layers:\n",
        "\t  print(layer, layer.trainable)"
      ],
      "execution_count": 111,
      "outputs": [
        {
          "output_type": "stream",
          "text": [
            "<keras.engine.input_layer.InputLayer object at 0x7fbc0742ed30> False\n",
            "<keras.layers.convolutional.ZeroPadding2D object at 0x7fbc0742eef0> False\n",
            "<keras.layers.convolutional.Conv2D object at 0x7fbc0742e748> False\n",
            "<keras.layers.normalization.BatchNormalization object at 0x7fbc0756b438> False\n",
            "<keras.layers.core.Activation object at 0x7fbc0756bc18> False\n",
            "<keras.layers.convolutional.ZeroPadding2D object at 0x7fbc0756b7f0> False\n",
            "<keras.layers.pooling.MaxPooling2D object at 0x7fbc0756b3c8> False\n",
            "<keras.layers.normalization.BatchNormalization object at 0x7fbc0756bb38> False\n",
            "<keras.layers.core.Activation object at 0x7fbc07477b00> False\n",
            "<keras.layers.convolutional.Conv2D object at 0x7fbc07494e48> False\n",
            "<keras.layers.normalization.BatchNormalization object at 0x7fbc071da828> False\n",
            "<keras.layers.core.Activation object at 0x7fbc071e0f28> False\n",
            "<keras.layers.convolutional.Conv2D object at 0x7fbc07173f98> False\n",
            "<keras.layers.merge.Concatenate object at 0x7fbc07173f60> False\n",
            "<keras.layers.normalization.BatchNormalization object at 0x7fbc0718a240> False\n",
            "<keras.layers.core.Activation object at 0x7fbc0718acf8> False\n",
            "<keras.layers.convolutional.Conv2D object at 0x7fbc071a3dd8> False\n",
            "<keras.layers.normalization.BatchNormalization object at 0x7fbc0713a710> False\n",
            "<keras.layers.core.Activation object at 0x7fbc0713a128> False\n",
            "<keras.layers.convolutional.Conv2D object at 0x7fbc07156898> False\n",
            "<keras.layers.merge.Concatenate object at 0x7fbc07166a20> False\n",
            "<keras.layers.normalization.BatchNormalization object at 0x7fbc07166978> False\n",
            "<keras.layers.core.Activation object at 0x7fbc07166438> False\n",
            "<keras.layers.convolutional.Conv2D object at 0x7fbc070fda20> False\n",
            "<keras.layers.normalization.BatchNormalization object at 0x7fbc07116ef0> False\n",
            "<keras.layers.core.Activation object at 0x7fbc0711dba8> False\n",
            "<keras.layers.convolutional.Conv2D object at 0x7fbc070b4dd8> False\n",
            "<keras.layers.merge.Concatenate object at 0x7fbc070b9160> False\n",
            "<keras.layers.normalization.BatchNormalization object at 0x7fbc070ca320> False\n",
            "<keras.layers.core.Activation object at 0x7fbc070caeb8> False\n",
            "<keras.layers.convolutional.Conv2D object at 0x7fbc070e0f98> False\n",
            "<keras.layers.normalization.BatchNormalization object at 0x7fbc07680588> False\n",
            "<keras.layers.core.Activation object at 0x7fbc07680198> False\n",
            "<keras.layers.convolutional.Conv2D object at 0x7fbc087c6ac8> False\n",
            "<keras.layers.merge.Concatenate object at 0x7fbc07557b70> False\n",
            "<keras.layers.normalization.BatchNormalization object at 0x7fbc07557a90> False\n",
            "<keras.layers.core.Activation object at 0x7fbc0eeaeb00> False\n",
            "<keras.layers.convolutional.Conv2D object at 0x7fbc0da8ce10> False\n",
            "<keras.layers.normalization.BatchNormalization object at 0x7fbc0ed61e80> False\n",
            "<keras.layers.core.Activation object at 0x7fbc0db5d5f8> False\n",
            "<keras.layers.convolutional.Conv2D object at 0x7fbc0ecd0780> False\n",
            "<keras.layers.merge.Concatenate object at 0x7fbc0ef2e5c0> False\n",
            "<keras.layers.normalization.BatchNormalization object at 0x7fbc0ef2e3c8> False\n",
            "<keras.layers.core.Activation object at 0x7fbc0ef2e908> False\n",
            "<keras.layers.convolutional.Conv2D object at 0x7fbc0ec5e828> False\n",
            "<keras.layers.normalization.BatchNormalization object at 0x7fbc0f729668> False\n",
            "<keras.layers.core.Activation object at 0x7fbc0f6ecbe0> False\n",
            "<keras.layers.convolutional.Conv2D object at 0x7fbc0f2596d8> False\n",
            "<keras.layers.merge.Concatenate object at 0x7fbc0f74d8d0> False\n",
            "<keras.layers.normalization.BatchNormalization object at 0x7fbc0f74d208> False\n",
            "<keras.layers.core.Activation object at 0x7fbc0f74de10> False\n",
            "<keras.layers.convolutional.Conv2D object at 0x7fbc0f76c0b8> False\n",
            "<keras.layers.pooling.AveragePooling2D object at 0x7fbc0f76c358> False\n",
            "<keras.layers.normalization.BatchNormalization object at 0x7fbc0e32e630> False\n",
            "<keras.layers.core.Activation object at 0x7fbc0ce51da0> False\n",
            "<keras.layers.convolutional.Conv2D object at 0x7fbc0d118b70> False\n",
            "<keras.layers.normalization.BatchNormalization object at 0x7fbc0cee9320> False\n",
            "<keras.layers.core.Activation object at 0x7fbc0cfaaa90> False\n",
            "<keras.layers.convolutional.Conv2D object at 0x7fbc0ec5d2e8> False\n",
            "<keras.layers.merge.Concatenate object at 0x7fbc0e958ef0> False\n",
            "<keras.layers.normalization.BatchNormalization object at 0x7fbc0e958550> False\n",
            "<keras.layers.core.Activation object at 0x7fbc0ec65a20> False\n",
            "<keras.layers.convolutional.Conv2D object at 0x7fbc0d350c50> False\n",
            "<keras.layers.normalization.BatchNormalization object at 0x7fbc0e901e48> False\n",
            "<keras.layers.core.Activation object at 0x7fbc0f27b2b0> False\n",
            "<keras.layers.convolutional.Conv2D object at 0x7fbc070e6f28> False\n",
            "<keras.layers.merge.Concatenate object at 0x7fbc0bf5c3c8> False\n",
            "<keras.layers.normalization.BatchNormalization object at 0x7fbc0bf905f8> False\n",
            "<keras.layers.core.Activation object at 0x7fbc0bf90ef0> False\n",
            "<keras.layers.convolutional.Conv2D object at 0x7fbc0ca94668> False\n",
            "<keras.layers.normalization.BatchNormalization object at 0x7fbc0ca75c88> False\n",
            "<keras.layers.core.Activation object at 0x7fbc0ca756a0> False\n",
            "<keras.layers.convolutional.Conv2D object at 0x7fbc0707de80> False\n",
            "<keras.layers.merge.Concatenate object at 0x7fbc0707df60> False\n",
            "<keras.layers.normalization.BatchNormalization object at 0x7fbc070920b8> False\n",
            "<keras.layers.core.Activation object at 0x7fbc07092c50> False\n",
            "<keras.layers.convolutional.Conv2D object at 0x7fbc070a6da0> False\n",
            "<keras.layers.normalization.BatchNormalization object at 0x7fbc0703d748> False\n",
            "<keras.layers.core.Activation object at 0x7fbc0703d160> False\n",
            "<keras.layers.convolutional.Conv2D object at 0x7fbc07058940> False\n",
            "<keras.layers.merge.Concatenate object at 0x7fbc0706ab38> False\n",
            "<keras.layers.normalization.BatchNormalization object at 0x7fbc0706aa90> False\n",
            "<keras.layers.core.Activation object at 0x7fbc0706a550> False\n",
            "<keras.layers.convolutional.Conv2D object at 0x7fbc0700b2b0> False\n",
            "<keras.layers.normalization.BatchNormalization object at 0x7fbc07005b00> False\n",
            "<keras.layers.core.Activation object at 0x7fbc0701eda0> False\n",
            "<keras.layers.convolutional.Conv2D object at 0x7fbc06fb3f28> False\n",
            "<keras.layers.merge.Concatenate object at 0x7fbc06fb73c8> False\n",
            "<keras.layers.normalization.BatchNormalization object at 0x7fbc06fcb5f8> False\n",
            "<keras.layers.core.Activation object at 0x7fbc06fcbef0> False\n",
            "<keras.layers.convolutional.Conv2D object at 0x7fbc06fe2668> False\n",
            "<keras.layers.normalization.BatchNormalization object at 0x7fbc0248dc88> False\n",
            "<keras.layers.core.Activation object at 0x7fbc0248d6a0> False\n",
            "<keras.layers.convolutional.Conv2D object at 0x7fbc024a9e80> False\n",
            "<keras.layers.merge.Concatenate object at 0x7fbc024a9fd0> False\n",
            "<keras.layers.normalization.BatchNormalization object at 0x7fbc024bf0b8> False\n",
            "<keras.layers.core.Activation object at 0x7fbc024bfc50> False\n",
            "<keras.layers.convolutional.Conv2D object at 0x7fbc02456da0> False\n",
            "<keras.layers.normalization.BatchNormalization object at 0x7fbc0246d748> False\n",
            "<keras.layers.core.Activation object at 0x7fbc0246d160> False\n",
            "<keras.layers.convolutional.Conv2D object at 0x7fbc0240b940> False\n",
            "<keras.layers.merge.Concatenate object at 0x7fbc0241cb38> False\n",
            "<keras.layers.normalization.BatchNormalization object at 0x7fbc0241ca90> False\n",
            "<keras.layers.core.Activation object at 0x7fbc0241c550> False\n",
            "<keras.layers.convolutional.Conv2D object at 0x7fbc0243f320> False\n",
            "<keras.layers.normalization.BatchNormalization object at 0x7fbc02439b00> False\n",
            "<keras.layers.core.Activation object at 0x7fbc023d0da0> False\n",
            "<keras.layers.convolutional.Conv2D object at 0x7fbc023e6f28> False\n",
            "<keras.layers.merge.Concatenate object at 0x7fbc023eb3c8> False\n",
            "<keras.layers.normalization.BatchNormalization object at 0x7fbc024005f8> False\n",
            "<keras.layers.core.Activation object at 0x7fbc02400ef0> False\n",
            "<keras.layers.convolutional.Conv2D object at 0x7fbc0239b668> False\n",
            "<keras.layers.normalization.BatchNormalization object at 0x7fbc023acc88> False\n",
            "<keras.layers.core.Activation object at 0x7fbc023ac6a0> False\n",
            "<keras.layers.convolutional.Conv2D object at 0x7fbc0234ae80> False\n",
            "<keras.layers.merge.Concatenate object at 0x7fbc0234afd0> False\n",
            "<keras.layers.normalization.BatchNormalization object at 0x7fbc0235f0b8> False\n",
            "<keras.layers.core.Activation object at 0x7fbc0235fc50> False\n",
            "<keras.layers.convolutional.Conv2D object at 0x7fbc02379da0> False\n",
            "<keras.layers.normalization.BatchNormalization object at 0x7fbc02312748> False\n",
            "<keras.layers.core.Activation object at 0x7fbc02312160> False\n",
            "<keras.layers.convolutional.Conv2D object at 0x7fbc0232b940> False\n",
            "<keras.layers.merge.Concatenate object at 0x7fbc0233eb38> False\n",
            "<keras.layers.normalization.BatchNormalization object at 0x7fbc0233ea90> False\n",
            "<keras.layers.core.Activation object at 0x7fbc0233e550> False\n",
            "<keras.layers.convolutional.Conv2D object at 0x7fbc022e1320> False\n",
            "<keras.layers.normalization.BatchNormalization object at 0x7fbc022ddb00> False\n",
            "<keras.layers.core.Activation object at 0x7fbc022f4da0> False\n",
            "<keras.layers.convolutional.Conv2D object at 0x7fbc02289f28> False\n",
            "<keras.layers.merge.Concatenate object at 0x7fbc0228f3c8> False\n",
            "<keras.layers.normalization.BatchNormalization object at 0x7fbc022a35f8> False\n",
            "<keras.layers.core.Activation object at 0x7fbc022a3ef0> False\n",
            "<keras.layers.convolutional.Conv2D object at 0x7fbc022bc668> False\n",
            "<keras.layers.normalization.BatchNormalization object at 0x7fbc0224fc88> False\n",
            "<keras.layers.core.Activation object at 0x7fbc0224f6a0> False\n",
            "<keras.layers.convolutional.Conv2D object at 0x7fbc0226de80> False\n",
            "<keras.layers.merge.Concatenate object at 0x7fbc0226dfd0> False\n",
            "<keras.layers.normalization.BatchNormalization object at 0x7fbc022840b8> False\n",
            "<keras.layers.core.Activation object at 0x7fbc02284c50> False\n",
            "<keras.layers.convolutional.Conv2D object at 0x7fbc0221cda0> False\n",
            "<keras.layers.pooling.AveragePooling2D object at 0x7fbc02235748> False\n",
            "<keras.layers.normalization.BatchNormalization object at 0x7fbc02235160> False\n",
            "<keras.layers.core.Activation object at 0x7fbc022359b0> False\n",
            "<keras.layers.convolutional.Conv2D object at 0x7fbc021cc7f0> False\n",
            "<keras.layers.normalization.BatchNormalization object at 0x7fbc021e2da0> False\n",
            "<keras.layers.core.Activation object at 0x7fbc021e7e48> False\n",
            "<keras.layers.convolutional.Conv2D object at 0x7fbc021fdf28> False\n",
            "<keras.layers.merge.Concatenate object at 0x7fbc021fdef0> False\n",
            "<keras.layers.normalization.BatchNormalization object at 0x7fbc02196240> False\n",
            "<keras.layers.core.Activation object at 0x7fbc02196cf8> False\n",
            "<keras.layers.convolutional.Conv2D object at 0x7fbc021ade48> False\n",
            "<keras.layers.normalization.BatchNormalization object at 0x7fbc021c57f0> False\n",
            "<keras.layers.core.Activation object at 0x7fbc021c5208> False\n",
            "<keras.layers.convolutional.Conv2D object at 0x7fbc021629e8> False\n",
            "<keras.layers.merge.Concatenate object at 0x7fbc02175be0> False\n",
            "<keras.layers.normalization.BatchNormalization object at 0x7fbc02175b38> False\n",
            "<keras.layers.core.Activation object at 0x7fbc021755f8> False\n",
            "<keras.layers.convolutional.Conv2D object at 0x7fbc02111c50> False\n",
            "<keras.layers.normalization.BatchNormalization object at 0x7fbc02116828> False\n",
            "<keras.layers.core.Activation object at 0x7fbc02128e48> False\n",
            "<keras.layers.convolutional.Conv2D object at 0x7fbc0213ef98> False\n",
            "<keras.layers.merge.Concatenate object at 0x7fbc020d86a0> False\n",
            "<keras.layers.normalization.BatchNormalization object at 0x7fbc020d85f8> False\n",
            "<keras.layers.core.Activation object at 0x7fbc020d81d0> False\n",
            "<keras.layers.convolutional.Conv2D object at 0x7fbc020f4710> False\n",
            "<keras.layers.normalization.BatchNormalization object at 0x7fbc02103da0> False\n",
            "<keras.layers.core.Activation object at 0x7fbc0208ce48> False\n",
            "<keras.layers.convolutional.Conv2D object at 0x7fbc020a3f28> False\n",
            "<keras.layers.merge.Concatenate object at 0x7fbc020a3ef0> False\n",
            "<keras.layers.normalization.BatchNormalization object at 0x7fbc020b8240> False\n",
            "<keras.layers.core.Activation object at 0x7fbc020b8cf8> False\n",
            "<keras.layers.convolutional.Conv2D object at 0x7fbc02052e48> False\n",
            "<keras.layers.normalization.BatchNormalization object at 0x7fbc0206a7f0> False\n",
            "<keras.layers.core.Activation object at 0x7fbc0206a208> False\n",
            "<keras.layers.convolutional.Conv2D object at 0x7fbc020069e8> False\n",
            "<keras.layers.merge.Concatenate object at 0x7fbc02019be0> False\n",
            "<keras.layers.normalization.BatchNormalization object at 0x7fbc02019b38> False\n",
            "<keras.layers.core.Activation object at 0x7fbc020195f8> False\n",
            "<keras.layers.convolutional.Conv2D object at 0x7fbc02033c50> False\n",
            "<keras.layers.normalization.BatchNormalization object at 0x7fbc02039828> False\n",
            "<keras.layers.core.Activation object at 0x7fbc01fcae48> False\n",
            "<keras.layers.convolutional.Conv2D object at 0x7fbc01fe3f98> False\n",
            "<keras.layers.merge.Concatenate object at 0x7fbc01ffb6a0> False\n",
            "<keras.layers.normalization.BatchNormalization object at 0x7fbc01ffb5f8> False\n",
            "<keras.layers.core.Activation object at 0x7fbc01ffb1d0> False\n",
            "<keras.layers.convolutional.Conv2D object at 0x7fbc01f96710> False\n",
            "<keras.layers.normalization.BatchNormalization object at 0x7fbc01fa7da0> False\n",
            "<keras.layers.core.Activation object at 0x7fbc01fafe48> False\n",
            "<keras.layers.convolutional.Conv2D object at 0x7fbc01fc5f28> False\n",
            "<keras.layers.merge.Concatenate object at 0x7fbc01fc5ef0> False\n",
            "<keras.layers.normalization.BatchNormalization object at 0x7fbc01f5e240> False\n",
            "<keras.layers.core.Activation object at 0x7fbc01f5ecf8> False\n",
            "<keras.layers.convolutional.Conv2D object at 0x7fbc01f77e48> False\n",
            "<keras.layers.normalization.BatchNormalization object at 0x7fbc01f0c7f0> False\n",
            "<keras.layers.core.Activation object at 0x7fbc01f0c208> False\n",
            "<keras.layers.convolutional.Conv2D object at 0x7fbc01f2b9e8> False\n",
            "<keras.layers.merge.Concatenate object at 0x7fbc01f3bbe0> False\n",
            "<keras.layers.normalization.BatchNormalization object at 0x7fbc01f3bb38> False\n",
            "<keras.layers.core.Activation object at 0x7fbc01f3b5f8> False\n",
            "<keras.layers.convolutional.Conv2D object at 0x7fbc01ed8c50> False\n",
            "<keras.layers.normalization.BatchNormalization object at 0x7fbc01edd828> False\n",
            "<keras.layers.core.Activation object at 0x7fbc01ef0e48> False\n",
            "<keras.layers.convolutional.Conv2D object at 0x7fbc01e88f98> False\n",
            "<keras.layers.merge.Concatenate object at 0x7fbc01ea06a0> False\n",
            "<keras.layers.normalization.BatchNormalization object at 0x7fbc01ea05f8> False\n",
            "<keras.layers.core.Activation object at 0x7fbc01ea01d0> False\n",
            "<keras.layers.convolutional.Conv2D object at 0x7fbc01ebc710> False\n",
            "<keras.layers.normalization.BatchNormalization object at 0x7fbc01e4fda0> False\n",
            "<keras.layers.core.Activation object at 0x7fbc01e56e48> False\n",
            "<keras.layers.convolutional.Conv2D object at 0x7fbc01e6af28> False\n",
            "<keras.layers.merge.Concatenate object at 0x7fbc01e6aef0> False\n",
            "<keras.layers.normalization.BatchNormalization object at 0x7fbc01e84240> False\n",
            "<keras.layers.core.Activation object at 0x7fbc01e84cf8> False\n",
            "<keras.layers.convolutional.Conv2D object at 0x7fbc01e1ae48> False\n",
            "<keras.layers.normalization.BatchNormalization object at 0x7fbc01e327f0> False\n",
            "<keras.layers.core.Activation object at 0x7fbc01e32208> False\n",
            "<keras.layers.convolutional.Conv2D object at 0x7fbc01dcd9e8> False\n",
            "<keras.layers.merge.Concatenate object at 0x7fbc01de0be0> False\n",
            "<keras.layers.normalization.BatchNormalization object at 0x7fbc01de0b38> False\n",
            "<keras.layers.core.Activation object at 0x7fbc01de05f8> False\n",
            "<keras.layers.convolutional.Conv2D object at 0x7fbc01dfcc50> False\n",
            "<keras.layers.normalization.BatchNormalization object at 0x7fbc01e01828> False\n",
            "<keras.layers.core.Activation object at 0x7fbc01d95e48> False\n",
            "<keras.layers.convolutional.Conv2D object at 0x7fbc01da9f98> False\n",
            "<keras.layers.merge.Concatenate object at 0x7fbc01dc36a0> False\n",
            "<keras.layers.normalization.BatchNormalization object at 0x7fbc01dc35f8> False\n",
            "<keras.layers.core.Activation object at 0x7fbc01dc31d0> False\n",
            "<keras.layers.convolutional.Conv2D object at 0x7fbc01d57710> False\n",
            "<keras.layers.normalization.BatchNormalization object at 0x7fbc01d71da0> False\n",
            "<keras.layers.core.Activation object at 0x7fbc01d79e48> False\n",
            "<keras.layers.convolutional.Conv2D object at 0x7fbc01d0ef28> False\n",
            "<keras.layers.merge.Concatenate object at 0x7fbc01d0eef0> False\n",
            "<keras.layers.normalization.BatchNormalization object at 0x7fbc01d27240> False\n",
            "<keras.layers.core.Activation object at 0x7fbc01d27cf8> False\n",
            "<keras.layers.convolutional.Conv2D object at 0x7fbc01d3ee48> False\n",
            "<keras.layers.normalization.BatchNormalization object at 0x7fbc01cd67f0> False\n",
            "<keras.layers.core.Activation object at 0x7fbc01cd6208> False\n",
            "<keras.layers.convolutional.Conv2D object at 0x7fbc01cf49e8> False\n",
            "<keras.layers.merge.Concatenate object at 0x7fbc01d05be0> False\n",
            "<keras.layers.normalization.BatchNormalization object at 0x7fbc01d05b38> False\n",
            "<keras.layers.core.Activation object at 0x7fbc01d055f8> False\n",
            "<keras.layers.convolutional.Conv2D object at 0x7fbc01ca2c50> False\n",
            "<keras.layers.normalization.BatchNormalization object at 0x7fbc01ca9828> False\n",
            "<keras.layers.core.Activation object at 0x7fbc01cb7e48> False\n",
            "<keras.layers.convolutional.Conv2D object at 0x7fbc01c4ff98> False\n",
            "<keras.layers.merge.Concatenate object at 0x7fbc01c696a0> False\n",
            "<keras.layers.normalization.BatchNormalization object at 0x7fbc01c695f8> False\n",
            "<keras.layers.core.Activation object at 0x7fbc01c691d0> False\n",
            "<keras.layers.convolutional.Conv2D object at 0x7fbc01c85710> False\n",
            "<keras.layers.normalization.BatchNormalization object at 0x7fbc01c17da0> False\n",
            "<keras.layers.core.Activation object at 0x7fbc01c1ee48> False\n",
            "<keras.layers.convolutional.Conv2D object at 0x7fbc01c34f28> False\n",
            "<keras.layers.merge.Concatenate object at 0x7fbc01c34ef0> False\n",
            "<keras.layers.normalization.BatchNormalization object at 0x7fbc01bcb240> False\n",
            "<keras.layers.core.Activation object at 0x7fbc01bcbcf8> False\n",
            "<keras.layers.convolutional.Conv2D object at 0x7fbc01be3e48> False\n",
            "<keras.layers.normalization.BatchNormalization object at 0x7fbc01bf87f0> False\n",
            "<keras.layers.core.Activation object at 0x7fbc01bf8208> False\n",
            "<keras.layers.convolutional.Conv2D object at 0x7fbc01b8f9e8> False\n",
            "<keras.layers.merge.Concatenate object at 0x7fbc01ba9be0> False\n",
            "<keras.layers.normalization.BatchNormalization object at 0x7fbc01ba9b38> False\n",
            "<keras.layers.core.Activation object at 0x7fbc01ba95f8> False\n",
            "<keras.layers.convolutional.Conv2D object at 0x7fbc01bc5c50> False\n",
            "<keras.layers.normalization.BatchNormalization object at 0x7fbc01b4a828> False\n",
            "<keras.layers.core.Activation object at 0x7fbc01b5fe48> False\n",
            "<keras.layers.convolutional.Conv2D object at 0x7fbc01b76f98> False\n",
            "<keras.layers.merge.Concatenate object at 0x7fbc01b0e6a0> False\n",
            "<keras.layers.normalization.BatchNormalization object at 0x7fbc01b0e5f8> False\n",
            "<keras.layers.core.Activation object at 0x7fbc01b0e1d0> False\n",
            "<keras.layers.convolutional.Conv2D object at 0x7fbc01b29710> False\n",
            "<keras.layers.normalization.BatchNormalization object at 0x7fbc01b3bda0> False\n",
            "<keras.layers.core.Activation object at 0x7fbc01b41e48> False\n",
            "<keras.layers.convolutional.Conv2D object at 0x7fbc01ad6f28> False\n",
            "<keras.layers.merge.Concatenate object at 0x7fbc01ad6ef0> False\n",
            "<keras.layers.normalization.BatchNormalization object at 0x7fbc01af0240> False\n",
            "<keras.layers.core.Activation object at 0x7fbc01af0cf8> False\n",
            "<keras.layers.convolutional.Conv2D object at 0x7fbc01b05e48> False\n",
            "<keras.layers.normalization.BatchNormalization object at 0x7fbc01aa07f0> False\n",
            "<keras.layers.core.Activation object at 0x7fbc01aa0208> False\n",
            "<keras.layers.convolutional.Conv2D object at 0x7fbc01aba9e8> False\n",
            "<keras.layers.merge.Concatenate object at 0x7fbc01a4bbe0> False\n",
            "<keras.layers.normalization.BatchNormalization object at 0x7fbc01a4bb38> False\n",
            "<keras.layers.core.Activation object at 0x7fbc01a4b5f8> False\n",
            "<keras.layers.convolutional.Conv2D object at 0x7fbc01a6bc50> False\n",
            "<keras.layers.normalization.BatchNormalization object at 0x7fbc01a72828> False\n",
            "<keras.layers.core.Activation object at 0x7fbc01a84e48> False\n",
            "<keras.layers.convolutional.Conv2D object at 0x7fbc01a19f98> False\n",
            "<keras.layers.merge.Concatenate object at 0x7fbc01a336a0> False\n",
            "<keras.layers.normalization.BatchNormalization object at 0x7fbc01a335f8> False\n",
            "<keras.layers.core.Activation object at 0x7fbc01a331d0> False\n",
            "<keras.layers.convolutional.Conv2D object at 0x7fbc019cc710> False\n",
            "<keras.layers.normalization.BatchNormalization object at 0x7fbc019deda0> False\n",
            "<keras.layers.core.Activation object at 0x7fbc019e4e48> False\n",
            "<keras.layers.convolutional.Conv2D object at 0x7fbc019fdf28> False\n",
            "<keras.layers.merge.Concatenate object at 0x7fbc019fdef0> False\n",
            "<keras.layers.normalization.BatchNormalization object at 0x7fbc01991240> False\n",
            "<keras.layers.core.Activation object at 0x7fbc01991cf8> False\n",
            "<keras.layers.convolutional.Conv2D object at 0x7fbc019aae48> False\n",
            "<keras.layers.normalization.BatchNormalization object at 0x7fbc019c27f0> False\n",
            "<keras.layers.core.Activation object at 0x7fbc019c2208> False\n",
            "<keras.layers.convolutional.Conv2D object at 0x7fbc019609e8> False\n",
            "<keras.layers.merge.Concatenate object at 0x7fbc01971be0> False\n",
            "<keras.layers.normalization.BatchNormalization object at 0x7fbc01971b38> False\n",
            "<keras.layers.core.Activation object at 0x7fbc019715f8> False\n",
            "<keras.layers.convolutional.Conv2D object at 0x7fbc0190dc50> False\n",
            "<keras.layers.normalization.BatchNormalization object at 0x7fbc01913828> False\n",
            "<keras.layers.core.Activation object at 0x7fbc01926e48> False\n",
            "<keras.layers.convolutional.Conv2D object at 0x7fbc0193df98> False\n",
            "<keras.layers.merge.Concatenate object at 0x7fbc018d36a0> False\n",
            "<keras.layers.normalization.BatchNormalization object at 0x7fbc018d35f8> False\n",
            "<keras.layers.core.Activation object at 0x7fbc018d31d0> False\n",
            "<keras.layers.convolutional.Conv2D object at 0x7fbc018f2710> False\n",
            "<keras.layers.pooling.AveragePooling2D object at 0x7fbc01902da0> False\n",
            "<keras.layers.normalization.BatchNormalization object at 0x7fbc0188aeb8> False\n",
            "<keras.layers.core.Activation object at 0x7fbc01902b70> False\n",
            "<keras.layers.convolutional.Conv2D object at 0x7fbc018a1e48> False\n",
            "<keras.layers.normalization.BatchNormalization object at 0x7fbc018a5208> False\n",
            "<keras.layers.core.Activation object at 0x7fbc018b7ef0> False\n",
            "<keras.layers.convolutional.Conv2D object at 0x7fbc01854550> False\n",
            "<keras.layers.merge.Concatenate object at 0x7fbc01868748> False\n",
            "<keras.layers.normalization.BatchNormalization object at 0x7fbc018686a0> False\n",
            "<keras.layers.core.Activation object at 0x7fbc01868160> False\n",
            "<keras.layers.convolutional.Conv2D object at 0x7fbc018847b8> False\n",
            "<keras.layers.normalization.BatchNormalization object at 0x7fbc018167f0> False\n",
            "<keras.layers.core.Activation object at 0x7fbc0181bef0> False\n",
            "<keras.layers.convolutional.Conv2D object at 0x7fbc01830048> False\n",
            "<keras.layers.merge.Concatenate object at 0x7fbc01832f60> False\n",
            "<keras.layers.normalization.BatchNormalization object at 0x7fbc017cb208> False\n",
            "<keras.layers.core.Activation object at 0x7fbc017cbda0> False\n",
            "<keras.layers.convolutional.Conv2D object at 0x7fbc017e0f60> False\n",
            "<keras.layers.normalization.BatchNormalization object at 0x7fbc017fb898> False\n",
            "<keras.layers.core.Activation object at 0x7fbc017fb2b0> False\n",
            "<keras.layers.convolutional.Conv2D object at 0x7fbc0178ea90> False\n",
            "<keras.layers.merge.Concatenate object at 0x7fbc017abc88> False\n",
            "<keras.layers.normalization.BatchNormalization object at 0x7fbc017abbe0> False\n",
            "<keras.layers.core.Activation object at 0x7fbc017ab6a0> False\n",
            "<keras.layers.convolutional.Conv2D object at 0x7fbc01748cf8> False\n",
            "<keras.layers.normalization.BatchNormalization object at 0x7fbc0174d8d0> False\n",
            "<keras.layers.core.Activation object at 0x7fbc0175eef0> False\n",
            "<keras.layers.convolutional.Conv2D object at 0x7fbc0177d550> False\n",
            "<keras.layers.merge.Concatenate object at 0x7fbc0170c748> False\n",
            "<keras.layers.normalization.BatchNormalization object at 0x7fbc0170c6a0> False\n",
            "<keras.layers.core.Activation object at 0x7fbc0170c160> False\n",
            "<keras.layers.convolutional.Conv2D object at 0x7fbc0172a7b8> False\n",
            "<keras.layers.normalization.BatchNormalization object at 0x7fbc0173a7f0> False\n",
            "<keras.layers.core.Activation object at 0x7fbc01742ef0> False\n",
            "<keras.layers.convolutional.Conv2D object at 0x7fbc016dd048> False\n",
            "<keras.layers.merge.Concatenate object at 0x7fbc016d8f60> False\n",
            "<keras.layers.normalization.BatchNormalization object at 0x7fbc016f2208> False\n",
            "<keras.layers.core.Activation object at 0x7fbc016f2da0> False\n",
            "<keras.layers.convolutional.Conv2D object at 0x7fbc01688f60> False\n",
            "<keras.layers.normalization.BatchNormalization object at 0x7fbc016a0898> False\n",
            "<keras.layers.core.Activation object at 0x7fbc016a02b0> False\n",
            "<keras.layers.convolutional.Conv2D object at 0x7fbc016bca90> False\n",
            "<keras.layers.merge.Concatenate object at 0x7fbc0164ec88> False\n",
            "<keras.layers.normalization.BatchNormalization object at 0x7fbc0164ebe0> False\n",
            "<keras.layers.core.Activation object at 0x7fbc0164e6a0> False\n",
            "<keras.layers.convolutional.Conv2D object at 0x7fbc0166acf8> False\n",
            "<keras.layers.normalization.BatchNormalization object at 0x7fbc0166f8d0> False\n",
            "<keras.layers.core.Activation object at 0x7fbc01682ef0> False\n",
            "<keras.layers.convolutional.Conv2D object at 0x7fbc0161e550> False\n",
            "<keras.layers.merge.Concatenate object at 0x7fbc01631748> False\n",
            "<keras.layers.normalization.BatchNormalization object at 0x7fbc016316a0> False\n",
            "<keras.layers.core.Activation object at 0x7fbc01631160> False\n",
            "<keras.layers.convolutional.Conv2D object at 0x7fbc015ce7b8> False\n",
            "<keras.layers.normalization.BatchNormalization object at 0x7fbc015e17f0> False\n",
            "<keras.layers.core.Activation object at 0x7fbc015e6ef0> False\n",
            "<keras.layers.convolutional.Conv2D object at 0x7fbc01601048> False\n",
            "<keras.layers.merge.Concatenate object at 0x7fbc015fbf60> False\n",
            "<keras.layers.normalization.BatchNormalization object at 0x7fbc01592208> False\n",
            "<keras.layers.core.Activation object at 0x7fbc01592da0> False\n",
            "<keras.layers.convolutional.Conv2D object at 0x7fbc015aaf60> False\n",
            "<keras.layers.normalization.BatchNormalization object at 0x7fbc015c5898> False\n",
            "<keras.layers.core.Activation object at 0x7fbc015c52b0> False\n",
            "<keras.layers.convolutional.Conv2D object at 0x7fbc01560a90> False\n",
            "<keras.layers.merge.Concatenate object at 0x7fbc01572c88> False\n",
            "<keras.layers.normalization.BatchNormalization object at 0x7fbc01572be0> False\n",
            "<keras.layers.core.Activation object at 0x7fbc015726a0> False\n",
            "<keras.layers.convolutional.Conv2D object at 0x7fbc0150fcf8> False\n",
            "<keras.layers.normalization.BatchNormalization object at 0x7fbc015178d0> False\n",
            "<keras.layers.core.Activation object at 0x7fbc01526ef0> False\n",
            "<keras.layers.convolutional.Conv2D object at 0x7fbc01542550> False\n",
            "<keras.layers.merge.Concatenate object at 0x7fbc014d3748> False\n",
            "<keras.layers.normalization.BatchNormalization object at 0x7fbc014d36a0> False\n",
            "<keras.layers.core.Activation object at 0x7fbc014d3160> False\n",
            "<keras.layers.convolutional.Conv2D object at 0x7fbc014f37b8> False\n",
            "<keras.layers.normalization.BatchNormalization object at 0x7fbc015047f0> False\n",
            "<keras.layers.core.Activation object at 0x7fbc01488ef0> False\n",
            "<keras.layers.convolutional.Conv2D object at 0x7fbc0149e048> False\n",
            "<keras.layers.merge.Concatenate object at 0x7fbc014a1f60> False\n",
            "<keras.layers.normalization.BatchNormalization object at 0x7fbc014b9208> False\n",
            "<keras.layers.core.Activation object at 0x7fbc014b9da0> False\n",
            "<keras.layers.convolutional.Conv2D object at 0x7fbc0144ff60> False\n",
            "<keras.layers.normalization.BatchNormalization object at 0x7fbc01466898> False\n",
            "<keras.layers.core.Activation object at 0x7fbc014662b0> False\n",
            "<keras.layers.convolutional.Conv2D object at 0x7fbc01406a90> False\n",
            "<keras.layers.merge.Concatenate object at 0x7fbc01413c88> False\n",
            "<keras.layers.normalization.BatchNormalization object at 0x7fbc01413be0> False\n",
            "<keras.layers.core.Activation object at 0x7fbc014136a0> False\n",
            "<keras.layers.convolutional.Conv2D object at 0x7fbc01431cf8> False\n",
            "<keras.layers.normalization.BatchNormalization object at 0x7fbc014388d0> False\n",
            "<keras.layers.core.Activation object at 0x7fbc013cbef0> False\n",
            "<keras.layers.convolutional.Conv2D object at 0x7fbc013e7550> False\n",
            "<keras.layers.merge.Concatenate object at 0x7fbc013fa748> False\n",
            "<keras.layers.normalization.BatchNormalization object at 0x7fbc013fa6a0> False\n",
            "<keras.layers.core.Activation object at 0x7fbc013fa160> False\n",
            "<keras.layers.convolutional.Conv2D object at 0x7fbc013967b8> False\n",
            "<keras.layers.normalization.BatchNormalization object at 0x7fbc013a77f0> False\n",
            "<keras.layers.core.Activation object at 0x7fbc013b0ef0> False\n",
            "<keras.layers.convolutional.Conv2D object at 0x7fbc0134d048> False\n",
            "<keras.layers.merge.Concatenate object at 0x7fbc01348f60> False\n",
            "<keras.layers.normalization.BatchNormalization object at 0x7fbc01360208> False\n",
            "<keras.layers.core.Activation object at 0x7fbc01360da0> False\n",
            "<keras.layers.convolutional.Conv2D object at 0x7fbc01375f60> False\n",
            "<keras.layers.normalization.BatchNormalization object at 0x7fbc0130e898> False\n",
            "<keras.layers.core.Activation object at 0x7fbc0130e2b0> False\n",
            "<keras.layers.convolutional.Conv2D object at 0x7fbc01328a90> False\n",
            "<keras.layers.merge.Concatenate object at 0x7fbc0133cc88> False\n",
            "<keras.layers.normalization.BatchNormalization object at 0x7fbc0133cbe0> False\n",
            "<keras.layers.core.Activation object at 0x7fbc0133c6a0> False\n",
            "<keras.layers.convolutional.Conv2D object at 0x7fbc012d9cf8> False\n",
            "<keras.layers.normalization.BatchNormalization object at 0x7fbc012dd8d0> False\n",
            "<keras.layers.core.Activation object at 0x7fbc012f2ef0> False\n",
            "<keras.layers.convolutional.Conv2D object at 0x7fbc0128d550> True\n",
            "<keras.layers.merge.Concatenate object at 0x7fbc012a1748> True\n",
            "<keras.layers.normalization.BatchNormalization object at 0x7fbc012a16a0> True\n",
            "<keras.layers.core.Activation object at 0x7fbc012a1160> True\n"
          ],
          "name": "stdout"
        }
      ]
    },
    {
      "cell_type": "code",
      "metadata": {
        "id": "ZanECf_OQ0lW",
        "colab_type": "code",
        "outputId": "dff02773-0b33-4bd9-cdda-b8b6e3915ead",
        "colab": {
          "base_uri": "https://localhost:8080/",
          "height": 348
        }
      },
      "source": [
        "from keras import models\n",
        "from keras import layers\n",
        "from keras import optimizers\n",
        "\n",
        "# Create the model\n",
        "model = models.Sequential()\n",
        "# Add the vgg/mobilenet convolutional base model\n",
        "model.add(densenet)\n",
        "# Add new layers\n",
        "model.add(layers.Flatten())\n",
        "model.add(layers.Dense(512, activation='relu'))\n",
        "model.add(layers.Dropout(0.4))\n",
        "model.add(layers.Dense(10, activation='softmax'))\n",
        "\n",
        "# Show a summary of the model. Check the number of trainable parameters\n",
        "model.summary()"
      ],
      "execution_count": 112,
      "outputs": [
        {
          "output_type": "stream",
          "text": [
            "Model: \"sequential_8\"\n",
            "_________________________________________________________________\n",
            "Layer (type)                 Output Shape              Param #   \n",
            "=================================================================\n",
            "densenet121 (Model)          (None, 2, 2, 1024)        7037504   \n",
            "_________________________________________________________________\n",
            "flatten_8 (Flatten)          (None, 4096)              0         \n",
            "_________________________________________________________________\n",
            "dense_15 (Dense)             (None, 512)               2097664   \n",
            "_________________________________________________________________\n",
            "dropout_8 (Dropout)          (None, 512)               0         \n",
            "_________________________________________________________________\n",
            "dense_16 (Dense)             (None, 10)                5130      \n",
            "=================================================================\n",
            "Total params: 9,140,298\n",
            "Trainable params: 2,141,706\n",
            "Non-trainable params: 6,998,592\n",
            "_________________________________________________________________\n"
          ],
          "name": "stdout"
        }
      ]
    },
    {
      "cell_type": "code",
      "metadata": {
        "id": "mi-B1-d7hb4u",
        "colab_type": "code",
        "colab": {}
      },
      "source": [
        "train_datagen = ImageDataGenerator(preprocessing_function=preprocess_input, zoom_range=0.3, rotation_range=50,\n",
        "                                   width_shift_range=0.2, height_shift_range=0.2, shear_range=0.2, \n",
        "                                   horizontal_flip=True)"
      ],
      "execution_count": 0,
      "outputs": []
    },
    {
      "cell_type": "code",
      "metadata": {
        "id": "aCXmO-hn6TWS",
        "colab_type": "code",
        "colab": {}
      },
      "source": [
        "test_datagen = ImageDataGenerator(preprocessing_function=preprocess_input)"
      ],
      "execution_count": 0,
      "outputs": []
    },
    {
      "cell_type": "code",
      "metadata": {
        "id": "-Izyi6i1hiJD",
        "colab_type": "code",
        "outputId": "2abb0ee7-8121-4542-a696-ba95b695bb11",
        "colab": {
          "base_uri": "https://localhost:8080/",
          "height": 35
        }
      },
      "source": [
        "train_generator = train_datagen.flow_from_directory('/content/flags1/train',target_size=(64,64),\n",
        "        batch_size=30,\n",
        "        class_mode='categorical')"
      ],
      "execution_count": 115,
      "outputs": [
        {
          "output_type": "stream",
          "text": [
            "Found 1074 images belonging to 10 classes.\n"
          ],
          "name": "stdout"
        }
      ]
    },
    {
      "cell_type": "code",
      "metadata": {
        "id": "PD5HZh13hlnP",
        "colab_type": "code",
        "outputId": "2815bf8b-c50b-4ae8-cab2-79ecec9009db",
        "colab": {
          "base_uri": "https://localhost:8080/",
          "height": 35
        }
      },
      "source": [
        "validation_generator = test_datagen.flow_from_directory('/content/flags1/val',\n",
        "        target_size=(64,64),\n",
        "        class_mode='categorical')"
      ],
      "execution_count": 116,
      "outputs": [
        {
          "output_type": "stream",
          "text": [
            "Found 272 images belonging to 10 classes.\n"
          ],
          "name": "stdout"
        }
      ]
    },
    {
      "cell_type": "code",
      "metadata": {
        "id": "vM7caap9hpxf",
        "colab_type": "code",
        "colab": {}
      },
      "source": [
        "# We'll stop training if no improvement after some epochs\n",
        "earlystopper1 = EarlyStopping(monitor='loss', patience=10, verbose=1)\n",
        "\n",
        "# Save the best model during the traning\n",
        "checkpointer1 = ModelCheckpoint('best_model1.h1'\n",
        "                                ,monitor='val_acc'\n",
        "                                ,verbose=1\n",
        "                                ,save_best_only=True\n",
        "                                ,save_weights_only=True)"
      ],
      "execution_count": 0,
      "outputs": []
    },
    {
      "cell_type": "code",
      "metadata": {
        "id": "GtCZxrX-kdoq",
        "colab_type": "code",
        "colab": {}
      },
      "source": [
        "model.compile(optimizer='adam',loss='categorical_crossentropy', metrics=['acc'])"
      ],
      "execution_count": 0,
      "outputs": []
    },
    {
      "cell_type": "code",
      "metadata": {
        "id": "YLs17LYVk9U2",
        "colab_type": "code",
        "outputId": "9ec33f0d-f20e-4f51-b609-9d85d7c908fb",
        "colab": {
          "base_uri": "https://localhost:8080/",
          "height": 1000
        }
      },
      "source": [
        "training=model.fit(train_generator,\n",
        "        steps_per_epoch=100,\n",
        "        epochs=20,\n",
        "        validation_data = validation_generator, \n",
        "        validation_steps = 30,\n",
        "        callbacks=[earlystopper1, checkpointer1])"
      ],
      "execution_count": 119,
      "outputs": [
        {
          "output_type": "stream",
          "text": [
            "Epoch 1/20\n",
            "100/100 [==============================] - 50s 500ms/step - loss: 1.8888 - acc: 0.4554 - val_loss: 2.4950 - val_acc: 0.5373\n",
            "\n",
            "Epoch 00001: val_acc improved from -inf to 0.53728, saving model to best_model1.h1\n",
            "Epoch 2/20\n",
            "100/100 [==============================] - 40s 398ms/step - loss: 1.1966 - acc: 0.6011 - val_loss: 2.0525 - val_acc: 0.5526\n",
            "\n",
            "Epoch 00002: val_acc improved from 0.53728 to 0.55263, saving model to best_model1.h1\n",
            "Epoch 3/20\n",
            "100/100 [==============================] - 39s 388ms/step - loss: 1.0597 - acc: 0.6516 - val_loss: 3.1724 - val_acc: 0.5446\n",
            "\n",
            "Epoch 00003: val_acc did not improve from 0.55263\n",
            "Epoch 4/20\n",
            "100/100 [==============================] - 38s 384ms/step - loss: 1.0096 - acc: 0.6667 - val_loss: 3.0622 - val_acc: 0.5800\n",
            "\n",
            "Epoch 00004: val_acc improved from 0.55263 to 0.58004, saving model to best_model1.h1\n",
            "Epoch 5/20\n",
            "100/100 [==============================] - 38s 376ms/step - loss: 0.9598 - acc: 0.6764 - val_loss: 4.2396 - val_acc: 0.6086\n",
            "\n",
            "Epoch 00005: val_acc improved from 0.58004 to 0.60855, saving model to best_model1.h1\n",
            "Epoch 6/20\n",
            "100/100 [==============================] - 41s 411ms/step - loss: 0.9137 - acc: 0.6895 - val_loss: 2.3644 - val_acc: 0.6261\n",
            "\n",
            "Epoch 00006: val_acc improved from 0.60855 to 0.62612, saving model to best_model1.h1\n",
            "Epoch 7/20\n",
            "100/100 [==============================] - 38s 383ms/step - loss: 0.8699 - acc: 0.6981 - val_loss: 3.1021 - val_acc: 0.6184\n",
            "\n",
            "Epoch 00007: val_acc did not improve from 0.62612\n",
            "Epoch 8/20\n",
            "100/100 [==============================] - 39s 391ms/step - loss: 0.8212 - acc: 0.7207 - val_loss: 3.6350 - val_acc: 0.5822\n",
            "\n",
            "Epoch 00008: val_acc did not improve from 0.62612\n",
            "Epoch 9/20\n",
            "100/100 [==============================] - 39s 393ms/step - loss: 0.8041 - acc: 0.7287 - val_loss: 2.9533 - val_acc: 0.5993\n",
            "\n",
            "Epoch 00009: val_acc did not improve from 0.62612\n",
            "Epoch 10/20\n",
            "100/100 [==============================] - 38s 385ms/step - loss: 0.7576 - acc: 0.7446 - val_loss: 4.6634 - val_acc: 0.5866\n",
            "\n",
            "Epoch 00010: val_acc did not improve from 0.62612\n",
            "Epoch 11/20\n",
            "100/100 [==============================] - 39s 394ms/step - loss: 0.7642 - acc: 0.7331 - val_loss: 1.5787 - val_acc: 0.6009\n",
            "\n",
            "Epoch 00011: val_acc did not improve from 0.62612\n",
            "Epoch 12/20\n",
            "100/100 [==============================] - 38s 383ms/step - loss: 0.7624 - acc: 0.7471 - val_loss: 3.9861 - val_acc: 0.5636\n",
            "\n",
            "Epoch 00012: val_acc did not improve from 0.62612\n",
            "Epoch 13/20\n",
            "100/100 [==============================] - 38s 380ms/step - loss: 0.7343 - acc: 0.7498 - val_loss: 2.3067 - val_acc: 0.5592\n",
            "\n",
            "Epoch 00013: val_acc did not improve from 0.62612\n",
            "Epoch 14/20\n",
            "100/100 [==============================] - 37s 374ms/step - loss: 0.6867 - acc: 0.7632 - val_loss: 2.0857 - val_acc: 0.6382\n",
            "\n",
            "Epoch 00014: val_acc improved from 0.62612 to 0.63816, saving model to best_model1.h1\n",
            "Epoch 15/20\n",
            "100/100 [==============================] - 41s 407ms/step - loss: 0.7123 - acc: 0.7643 - val_loss: 3.6664 - val_acc: 0.6116\n",
            "\n",
            "Epoch 00015: val_acc did not improve from 0.63816\n",
            "Epoch 16/20\n",
            "100/100 [==============================] - 39s 387ms/step - loss: 0.6864 - acc: 0.7689 - val_loss: 2.9026 - val_acc: 0.6524\n",
            "\n",
            "Epoch 00016: val_acc improved from 0.63816 to 0.65241, saving model to best_model1.h1\n",
            "Epoch 17/20\n",
            "100/100 [==============================] - 39s 385ms/step - loss: 0.6630 - acc: 0.7738 - val_loss: 1.3935 - val_acc: 0.6678\n",
            "\n",
            "Epoch 00017: val_acc improved from 0.65241 to 0.66776, saving model to best_model1.h1\n",
            "Epoch 18/20\n",
            "100/100 [==============================] - 39s 389ms/step - loss: 0.6493 - acc: 0.7767 - val_loss: 5.9005 - val_acc: 0.6004\n",
            "\n",
            "Epoch 00018: val_acc did not improve from 0.66776\n",
            "Epoch 19/20\n",
            "100/100 [==============================] - 38s 379ms/step - loss: 0.5889 - acc: 0.7988 - val_loss: 3.0516 - val_acc: 0.6360\n",
            "\n",
            "Epoch 00019: val_acc did not improve from 0.66776\n",
            "Epoch 20/20\n",
            "100/100 [==============================] - 40s 403ms/step - loss: 0.6689 - acc: 0.7697 - val_loss: 3.3710 - val_acc: 0.6261\n",
            "\n",
            "Epoch 00020: val_acc did not improve from 0.66776\n"
          ],
          "name": "stdout"
        }
      ]
    },
    {
      "cell_type": "code",
      "metadata": {
        "id": "O2vuJWYBlC4e",
        "colab_type": "code",
        "outputId": "734af1f3-61f4-4699-d0fe-e7ab6b6262ec",
        "colab": {
          "base_uri": "https://localhost:8080/",
          "height": 545
        }
      },
      "source": [
        "acc = training.history['acc']\n",
        "val_acc = training.history['val_acc']\n",
        "loss = training.history['loss']\n",
        "val_loss = training.history['val_loss']\n",
        "epochs = range(len(acc))\n",
        "plt.plot(epochs, acc, 'b', label='Training acc')\n",
        "plt.plot(epochs, val_acc, 'r', label='Validation acc')\n",
        "plt.title('Training and validation accuracy')\n",
        "plt.legend()\n",
        "plt.figure()\n",
        "plt.plot(epochs, loss, 'b', label='Training loss')\n",
        "plt.plot(epochs, val_loss, 'r', label='Validation loss')\n",
        "plt.title('Training and validation loss')\n",
        "plt.legend()\n",
        "plt.show()"
      ],
      "execution_count": 120,
      "outputs": [
        {
          "output_type": "display_data",
          "data": {
            "image/png": "[encoded data removed]",
            "text/plain": [
              "<Figure size 432x288 with 1 Axes>"
            ]
          },
          "metadata": {
            "tags": [],
            "needs_background": "light"
          }
        },
        {
          "output_type": "display_data",
          "data": {
            "image/png": "[encoded data removed]",
            "text/plain": [
              "<Figure size 432x288 with 1 Axes>"
            ]
          },
          "metadata": {
            "tags": [],
            "needs_background": "light"
          }
        }
      ]
    },
    {
      "cell_type": "code",
      "metadata": {
        "id": "lUUZZqFN3-Xt",
        "colab_type": "code",
        "colab": {}
      },
      "source": [
        ""
      ],
      "execution_count": 0,
      "outputs": []
    }
  ]
}